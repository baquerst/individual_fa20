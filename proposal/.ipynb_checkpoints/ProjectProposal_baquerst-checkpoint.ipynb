{
 "cells": [
  {
   "cell_type": "markdown",
   "metadata": {},
   "source": [
    "# COGS 108 - Project Proposal"
   ]
  },
  {
   "cell_type": "markdown",
   "metadata": {},
   "source": [
    "# Names & GitHub ID\n",
    "\n",
    "- Name: Bryan Lee\n",
    "- GitHub Username: baquerst"
   ]
  },
  {
   "cell_type": "markdown",
   "metadata": {},
   "source": [
    "# Research Question"
   ]
  },
  {
   "cell_type": "markdown",
   "metadata": {},
   "source": [
    "*Is there a correlation between the number of recreational programs based on average neighborhood income in San Diego, California? If there is a correlation, does this have an effect on the physical health of the inhabitants?*"
   ]
  },
  {
   "cell_type": "markdown",
   "metadata": {},
   "source": [
    "## Background and Prior Work"
   ]
  },
  {
   "cell_type": "markdown",
   "metadata": {},
   "source": [
    "Parks and recreation services are meant to serve communities by providing them with an outlet for physical activites, group activites, and places for congregation. However, it has been shown that there can be disparities in park distribution and access among neighborhoods based on income or race/ethnicity<sup>1</sup>. The study done by the National Recreation and Park Association (NPRA) investigates this disparity throughout multiple cities in America, but has not conducted a study in San Diego. \n",
    "    \n",
    "Physical health is an important factor into overall the wellbeing of a person, however, a lack of resources to maintain physical health will hinder this. Local parks and recreation facilities can offer individuals many resources to stay active and maintain their physical health. Just by taking a walk in the park, a person can \"help to maintain their weight, strengthen their muscles and bones, and improve balance and coordination<sup>2</sup>\". \n",
    "\n",
    "Jim Sallis, the director of Active Living Research at SDSU has stated how “many low-income communities lack access to parks, recreation areas and sources of healthy foods[...] and those factors play a significant role in preventing participation in outdoor activity in their communities<sup>3</sup>” This decrease in outdoor activity could then lead to a decrease in physical health, as it has been shown how outdoor activites like walks are proven to be beneficial<sup>2</sup>. \n",
    "\n",
    "My study aims to research the number of parks and recreational programs that are available to differing neighborhoods in San Diego, and to find a discrepancy between low-income neighborhoods and non-low-income neighborhoods. I will also look into the physical wellbeing of those in low-income neighborhoods compared to non-low-income neighborhoods.\n",
    "\n",
    "References:\n",
    "1. [Parks and Recreation in Underserved Areas: A Public Health Perspective](https://www.nrpa.org/uploadedFiles/nrpa.org/Publications_and_Research/Research/Papers/Parks-Rec-Underserved-Areas.pdf)\n",
    "2. [The Role of Parks and Rec in Public Health](https://www.civicplus.com/blog/pr/the-role-of-parks-and-rec-in-public-health)\n",
    "3. [Poor Neighborhoods Can Harm Health](http://newscenter.sdsu.edu/sdsu_newscenter/news_story.aspx?sid=73238)"
   ]
  },
  {
   "cell_type": "markdown",
   "metadata": {},
   "source": [
    "# Hypothesis\n"
   ]
  },
  {
   "cell_type": "markdown",
   "metadata": {},
   "source": [
    "*I hypothesize that lower income neighborhoods will have less parks and recreational programs compared to other neighborhoods. Lower income would mean less funding for parks and recreation, causing this disparity. I hypothesize the lower number of parks and recreational programs will negatively impact the physical health of those communities.*"
   ]
  },
  {
   "cell_type": "markdown",
   "metadata": {},
   "source": [
    "# Data"
   ]
  },
  {
   "cell_type": "markdown",
   "metadata": {},
   "source": [
    "The ideal dataset for my research question would have the data of median household income for each neighborhood/district in San Diego. I would also need the number of parks and recreational programs associated with these parks for each neighborhood/district as well. To get a measure of physical health, I would need the data of how prevalent health conditions like obesity are in each community.\n",
    "\n",
    "The data can be stored in a table with each neighborhood/district of San diego being the observation and household income, number of parks, number of recreational programs, and number of individuals with obesity being variables."
   ]
  },
  {
   "cell_type": "markdown",
   "metadata": {},
   "source": [
    "# Ethics & Privacy"
   ]
  },
  {
   "cell_type": "markdown",
   "metadata": {},
   "source": [
    "The data for each neighborhood/district in San Diego regarding income and number of parks and recreation should not contain personal information of an individual. The data for number of individuals with obesity will be anonymized if it contains any indentifiable information. \n",
    "\n",
    "There could be a misrepresentation of number of individuals with obesity since not every person has access to healthcare and may not be able to get diagnosed. I do not forsee any potential biases within these datasets, since they are on neighborhoods and locations, rather than people. The data should also come from the city of San Diego, a public sector."
   ]
  },
  {
   "cell_type": "code",
   "execution_count": null,
   "metadata": {},
   "outputs": [],
   "source": []
  }
 ],
 "metadata": {
  "kernelspec": {
   "display_name": "Python 3",
   "language": "python",
   "name": "python3"
  },
  "language_info": {
   "codemirror_mode": {
    "name": "ipython",
    "version": 3
   },
   "file_extension": ".py",
   "mimetype": "text/x-python",
   "name": "python",
   "nbconvert_exporter": "python",
   "pygments_lexer": "ipython3",
   "version": "3.8.5"
  }
 },
 "nbformat": 4,
 "nbformat_minor": 2
}
