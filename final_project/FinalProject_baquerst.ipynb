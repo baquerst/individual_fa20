{
 "cells": [
  {
   "cell_type": "markdown",
   "metadata": {},
   "source": [
    "# COGS 108 - Final Project "
   ]
  },
  {
   "cell_type": "markdown",
   "metadata": {},
   "source": [
    "# Overview"
   ]
  },
  {
   "cell_type": "markdown",
   "metadata": {},
   "source": [
    "My project aims to analyze the median household incomes for cities in San Diego and the average ratings for parks in those cities. Specifically, I want to see if there is a direct correlation between the two, with lower income resulting in lower ratings and higher income resulting in higher ratings. Lower income communities are already being disproportionately affected by many factors, so my goal is to see if the park ratings are reflective of this. Ultimately, the data found was not able to conclude that there is a relationship between median household income and park ratings. "
   ]
  },
  {
   "cell_type": "markdown",
   "metadata": {},
   "source": [
    "# Name & GitHub ID\n",
    "\n",
    "- Name: Bryan Lee\n",
    "- GitHub Username: baquerst"
   ]
  },
  {
   "cell_type": "markdown",
   "metadata": {},
   "source": [
    "# Research Question"
   ]
  },
  {
   "cell_type": "markdown",
   "metadata": {},
   "source": [
    "*Within San Diego county, is there a correlation between the median household income by city and the rating of reviews for parks in those cities?*"
   ]
  },
  {
   "cell_type": "markdown",
   "metadata": {},
   "source": [
    "## Background and Prior Work"
   ]
  },
  {
   "cell_type": "markdown",
   "metadata": {},
   "source": [
    "Parks and recreation services are meant to serve communities by providing them with an outlet for physical activites, group activites, and places for congregation. However, it has been shown that there can be disparities in park distribution and access among neighborhoods based on income or race/ethnicity<sup>1</sup>. The study done by the National Recreation and Park Association (NPRA) investigates this disparity throughout multiple cities in America, but has not conducted a study in San Diego. \n",
    "\n",
    "Jim Sallis, the director of Active Living Research at SDSU has stated how “many low-income communities lack access to parks, recreation areas and sources of healthy foods[...] and those factors play a significant role in preventing participation in outdoor activity in their communities<sup>2</sup>” This decrease in resources could also lead to parks established in those areas to be unkept or unserviced, leading to lower reviews.\n",
    "\n",
    "My study aims to research the number of parks and recreational programs that are available to differing neighborhoods in San Diego, and to find a discrepancy between low-income neighborhoods and non-low-income neighborhoods.\n",
    "\n",
    "References:\n",
    "1. [Parks and Recreation in Underserved Areas: A Public Health Perspective](https://www.nrpa.org/uploadedFiles/nrpa.org/Publications_and_Research/Research/Papers/Parks-Rec-Underserved-Areas.pdf)\n",
    "2. [Poor Neighborhoods Can Harm Health](http://newscenter.sdsu.edu/sdsu_newscenter/news_story.aspx?sid=73238)"
   ]
  },
  {
   "cell_type": "markdown",
   "metadata": {},
   "source": [
    "# Hypothesis\n"
   ]
  },
  {
   "cell_type": "markdown",
   "metadata": {},
   "source": [
    "*I hypothesize that lower income cities will have more negative park reviews. Lower income would mean less funding for parks and recreation, causing this disparity.*"
   ]
  },
  {
   "cell_type": "markdown",
   "metadata": {},
   "source": [
    "# Dataset(s)"
   ]
  },
  {
   "cell_type": "markdown",
   "metadata": {},
   "source": [
    "\n",
    "\n",
    "- Dataset Name: 2016 San Diego County Demographic Profiles - Median Income and Persons Per Household, by City\n",
    "- Link to the dataset: https://data.sandiegocounty.gov/Demographics/2016-San-Diego-County-Demographic-Profiles-Median-/mh9x-cdz6\n",
    "- Number of observations: 18\n",
    "- Description: This dataset includes the median household income for each city within San Diego County. It also contains the average person per household and the median household income divided by the persons per household\n",
    "\n",
    "\n",
    "- Dataset Name: San Diego Parks Yelp Reviews\n",
    "- Link to the dataset: https://github.com/COGS108/individual_fa20/blob/master/data/yelp_SD_parks.csv\n",
    "- Number of observations: 833\n",
    "- Description: This dataset contains the average rating for each park in San Diego county, the number of ratings, and other identifiable information such as address, phone number, the link to its Yelp page, and whether it's closed or not.\n",
    "\n",
    "For these datasets I will be using the Median Household Income from the 2016 San Diego County and the average rating for Yelp park reviews for each city in San Diego county. I will be joining them to compare the two and to test whether they have a relationship or not."
   ]
  },
  {
   "cell_type": "markdown",
   "metadata": {},
   "source": [
    "# Setup"
   ]
  },
  {
   "cell_type": "code",
   "execution_count": 1,
   "metadata": {},
   "outputs": [],
   "source": [
    "import pandas as pd\n",
    "import numpy as np\n",
    "import seaborn as sns\n",
    "from scipy.stats import pearsonr, norm, ttest_ind\n",
    "\n",
    "import matplotlib.pyplot as plt\n",
    "# set plotting size parameter\n",
    "plt.rcParams['figure.figsize'] = (17, 7)\n",
    "\n",
    "import patsy\n",
    "import statsmodels.api as sm\n",
    "\n",
    "%config InlineBackend.figure_format = 'retina'"
   ]
  },
  {
   "cell_type": "markdown",
   "metadata": {},
   "source": [
    "# Data Cleaning"
   ]
  },
  {
   "cell_type": "markdown",
   "metadata": {},
   "source": [
    "The first dataset I will load in is the Yelp reviews for parks within San Diego county."
   ]
  },
  {
   "cell_type": "code",
   "execution_count": 2,
   "metadata": {},
   "outputs": [
    {
     "data": {
      "text/html": [
       "<div>\n",
       "<style scoped>\n",
       "    .dataframe tbody tr th:only-of-type {\n",
       "        vertical-align: middle;\n",
       "    }\n",
       "\n",
       "    .dataframe tbody tr th {\n",
       "        vertical-align: top;\n",
       "    }\n",
       "\n",
       "    .dataframe thead th {\n",
       "        text-align: right;\n",
       "    }\n",
       "</style>\n",
       "<table border=\"1\" class=\"dataframe\">\n",
       "  <thead>\n",
       "    <tr style=\"text-align: right;\">\n",
       "      <th></th>\n",
       "      <th>name</th>\n",
       "      <th>address</th>\n",
       "      <th>phone</th>\n",
       "      <th>id</th>\n",
       "      <th>url</th>\n",
       "      <th>rating</th>\n",
       "      <th>review_count</th>\n",
       "      <th>longitude</th>\n",
       "      <th>latitude</th>\n",
       "      <th>is_closed</th>\n",
       "    </tr>\n",
       "  </thead>\n",
       "  <tbody>\n",
       "    <tr>\n",
       "      <th>0</th>\n",
       "      <td>Balboa Park</td>\n",
       "      <td>1549 El Prado San Diego, CA 92101</td>\n",
       "      <td>1.619239e+10</td>\n",
       "      <td>9M_FW_-Ipx93I36w-_ykBg</td>\n",
       "      <td>https://www.yelp.com/biz/balboa-park-san-diego...</td>\n",
       "      <td>5.0</td>\n",
       "      <td>2105</td>\n",
       "      <td>-117.153150</td>\n",
       "      <td>32.734502</td>\n",
       "      <td>False</td>\n",
       "    </tr>\n",
       "    <tr>\n",
       "      <th>1</th>\n",
       "      <td>Civita Park</td>\n",
       "      <td>7960 Civita Blvd San Diego, CA 92108</td>\n",
       "      <td>NaN</td>\n",
       "      <td>3AEHjqNrTmggA6G9VdhQfg</td>\n",
       "      <td>https://www.yelp.com/biz/civita-park-san-diego...</td>\n",
       "      <td>4.5</td>\n",
       "      <td>46</td>\n",
       "      <td>-117.147278</td>\n",
       "      <td>32.778315</td>\n",
       "      <td>False</td>\n",
       "    </tr>\n",
       "    <tr>\n",
       "      <th>2</th>\n",
       "      <td>Waterfront Park</td>\n",
       "      <td>1600 Pacific Hwy San Diego, CA 92101</td>\n",
       "      <td>1.619233e+10</td>\n",
       "      <td>3unbJeYrn1RmInZGmjp80g</td>\n",
       "      <td>https://www.yelp.com/biz/waterfront-park-san-d...</td>\n",
       "      <td>4.5</td>\n",
       "      <td>242</td>\n",
       "      <td>-117.172479</td>\n",
       "      <td>32.721952</td>\n",
       "      <td>False</td>\n",
       "    </tr>\n",
       "    <tr>\n",
       "      <th>3</th>\n",
       "      <td>Trolley Barn Park</td>\n",
       "      <td>Adams Ave And Florida St San Diego, CA 92116</td>\n",
       "      <td>NaN</td>\n",
       "      <td>PvHxIYrmaiFKdWUDTMDzcg</td>\n",
       "      <td>https://www.yelp.com/biz/trolley-barn-park-san...</td>\n",
       "      <td>4.5</td>\n",
       "      <td>102</td>\n",
       "      <td>-117.143789</td>\n",
       "      <td>32.762463</td>\n",
       "      <td>False</td>\n",
       "    </tr>\n",
       "    <tr>\n",
       "      <th>4</th>\n",
       "      <td>Bay View Park</td>\n",
       "      <td>413 1st St Coronado, CA 92118</td>\n",
       "      <td>NaN</td>\n",
       "      <td>6IF4VB9-fkv_F-LBvG8ppQ</td>\n",
       "      <td>https://www.yelp.com/biz/bay-view-park-coronad...</td>\n",
       "      <td>5.0</td>\n",
       "      <td>42</td>\n",
       "      <td>-117.178967</td>\n",
       "      <td>32.701785</td>\n",
       "      <td>False</td>\n",
       "    </tr>\n",
       "    <tr>\n",
       "      <th>...</th>\n",
       "      <td>...</td>\n",
       "      <td>...</td>\n",
       "      <td>...</td>\n",
       "      <td>...</td>\n",
       "      <td>...</td>\n",
       "      <td>...</td>\n",
       "      <td>...</td>\n",
       "      <td>...</td>\n",
       "      <td>...</td>\n",
       "      <td>...</td>\n",
       "    </tr>\n",
       "    <tr>\n",
       "      <th>828</th>\n",
       "      <td>Del Cerro - San Diego</td>\n",
       "      <td>San Diego, CA 92120</td>\n",
       "      <td>1.619287e+10</td>\n",
       "      <td>ggbc59hSsl6pxCGSN1QLQA</td>\n",
       "      <td>https://www.yelp.com/biz/del-cerro-san-diego-s...</td>\n",
       "      <td>4.5</td>\n",
       "      <td>12</td>\n",
       "      <td>-117.073524</td>\n",
       "      <td>32.792626</td>\n",
       "      <td>False</td>\n",
       "    </tr>\n",
       "    <tr>\n",
       "      <th>829</th>\n",
       "      <td>San Diego Metropolitan Transit System</td>\n",
       "      <td>1255 Imperial Ave Ste 1000 San Diego, CA 92101</td>\n",
       "      <td>1.619238e+10</td>\n",
       "      <td>c8jhIMcwSjWqBD7S-faKYg</td>\n",
       "      <td>https://www.yelp.com/biz/san-diego-metropolita...</td>\n",
       "      <td>2.5</td>\n",
       "      <td>268</td>\n",
       "      <td>-117.153400</td>\n",
       "      <td>32.705760</td>\n",
       "      <td>False</td>\n",
       "    </tr>\n",
       "    <tr>\n",
       "      <th>830</th>\n",
       "      <td>Petco Park</td>\n",
       "      <td>100 Park Blvd San Diego, CA 92101</td>\n",
       "      <td>1.619796e+10</td>\n",
       "      <td>HkgSbRLVMRHExsRkImIK5A</td>\n",
       "      <td>https://www.yelp.com/biz/petco-park-san-diego?...</td>\n",
       "      <td>4.0</td>\n",
       "      <td>1667</td>\n",
       "      <td>-117.157054</td>\n",
       "      <td>32.707246</td>\n",
       "      <td>False</td>\n",
       "    </tr>\n",
       "    <tr>\n",
       "      <th>831</th>\n",
       "      <td>Ann D. L'Heureux Memorial Dog Park</td>\n",
       "      <td>2700 Carlsbad Village Dr Carlsbad, CA 92008</td>\n",
       "      <td>1.760434e+10</td>\n",
       "      <td>wYGJ65iVMi74-3TylWxY0Q</td>\n",
       "      <td>https://www.yelp.com/biz/ann-d-l-heureux-memor...</td>\n",
       "      <td>3.0</td>\n",
       "      <td>50</td>\n",
       "      <td>-117.316419</td>\n",
       "      <td>33.171137</td>\n",
       "      <td>False</td>\n",
       "    </tr>\n",
       "    <tr>\n",
       "      <th>832</th>\n",
       "      <td>Fairbrook Farm</td>\n",
       "      <td>4949 S Mission Rd Fallbrook, CA 92028</td>\n",
       "      <td>1.760729e+10</td>\n",
       "      <td>l3ZIY78OBs6BfkMQifY28g</td>\n",
       "      <td>https://www.yelp.com/biz/fairbrook-farm-fallbr...</td>\n",
       "      <td>5.0</td>\n",
       "      <td>1</td>\n",
       "      <td>-117.227747</td>\n",
       "      <td>33.302164</td>\n",
       "      <td>False</td>\n",
       "    </tr>\n",
       "  </tbody>\n",
       "</table>\n",
       "<p>833 rows × 10 columns</p>\n",
       "</div>"
      ],
      "text/plain": [
       "                                      name  \\\n",
       "0                              Balboa Park   \n",
       "1                              Civita Park   \n",
       "2                          Waterfront Park   \n",
       "3                        Trolley Barn Park   \n",
       "4                            Bay View Park   \n",
       "..                                     ...   \n",
       "828                  Del Cerro - San Diego   \n",
       "829  San Diego Metropolitan Transit System   \n",
       "830                             Petco Park   \n",
       "831     Ann D. L'Heureux Memorial Dog Park   \n",
       "832                         Fairbrook Farm   \n",
       "\n",
       "                                            address         phone  \\\n",
       "0                 1549 El Prado San Diego, CA 92101  1.619239e+10   \n",
       "1              7960 Civita Blvd San Diego, CA 92108           NaN   \n",
       "2              1600 Pacific Hwy San Diego, CA 92101  1.619233e+10   \n",
       "3      Adams Ave And Florida St San Diego, CA 92116           NaN   \n",
       "4                     413 1st St Coronado, CA 92118           NaN   \n",
       "..                                              ...           ...   \n",
       "828                             San Diego, CA 92120  1.619287e+10   \n",
       "829  1255 Imperial Ave Ste 1000 San Diego, CA 92101  1.619238e+10   \n",
       "830               100 Park Blvd San Diego, CA 92101  1.619796e+10   \n",
       "831     2700 Carlsbad Village Dr Carlsbad, CA 92008  1.760434e+10   \n",
       "832           4949 S Mission Rd Fallbrook, CA 92028  1.760729e+10   \n",
       "\n",
       "                         id  \\\n",
       "0    9M_FW_-Ipx93I36w-_ykBg   \n",
       "1    3AEHjqNrTmggA6G9VdhQfg   \n",
       "2    3unbJeYrn1RmInZGmjp80g   \n",
       "3    PvHxIYrmaiFKdWUDTMDzcg   \n",
       "4    6IF4VB9-fkv_F-LBvG8ppQ   \n",
       "..                      ...   \n",
       "828  ggbc59hSsl6pxCGSN1QLQA   \n",
       "829  c8jhIMcwSjWqBD7S-faKYg   \n",
       "830  HkgSbRLVMRHExsRkImIK5A   \n",
       "831  wYGJ65iVMi74-3TylWxY0Q   \n",
       "832  l3ZIY78OBs6BfkMQifY28g   \n",
       "\n",
       "                                                   url  rating  review_count  \\\n",
       "0    https://www.yelp.com/biz/balboa-park-san-diego...     5.0          2105   \n",
       "1    https://www.yelp.com/biz/civita-park-san-diego...     4.5            46   \n",
       "2    https://www.yelp.com/biz/waterfront-park-san-d...     4.5           242   \n",
       "3    https://www.yelp.com/biz/trolley-barn-park-san...     4.5           102   \n",
       "4    https://www.yelp.com/biz/bay-view-park-coronad...     5.0            42   \n",
       "..                                                 ...     ...           ...   \n",
       "828  https://www.yelp.com/biz/del-cerro-san-diego-s...     4.5            12   \n",
       "829  https://www.yelp.com/biz/san-diego-metropolita...     2.5           268   \n",
       "830  https://www.yelp.com/biz/petco-park-san-diego?...     4.0          1667   \n",
       "831  https://www.yelp.com/biz/ann-d-l-heureux-memor...     3.0            50   \n",
       "832  https://www.yelp.com/biz/fairbrook-farm-fallbr...     5.0             1   \n",
       "\n",
       "      longitude   latitude  is_closed  \n",
       "0   -117.153150  32.734502      False  \n",
       "1   -117.147278  32.778315      False  \n",
       "2   -117.172479  32.721952      False  \n",
       "3   -117.143789  32.762463      False  \n",
       "4   -117.178967  32.701785      False  \n",
       "..          ...        ...        ...  \n",
       "828 -117.073524  32.792626      False  \n",
       "829 -117.153400  32.705760      False  \n",
       "830 -117.157054  32.707246      False  \n",
       "831 -117.316419  33.171137      False  \n",
       "832 -117.227747  33.302164      False  \n",
       "\n",
       "[833 rows x 10 columns]"
      ]
     },
     "execution_count": 2,
     "metadata": {},
     "output_type": "execute_result"
    }
   ],
   "source": [
    "#Loading in the Yelp Review data\n",
    "df_yelp = pd.read_csv('https://raw.githubusercontent.com/COGS108/individual_fa20/master/data/yelp_SD_parks.csv')\n",
    "df_yelp"
   ]
  },
  {
   "cell_type": "markdown",
   "metadata": {},
   "source": [
    "The only relevant data needed for the dataframe is the name of the park, its address, rating, and its review count. I will be dropping all other columns with data that is not neccessary."
   ]
  },
  {
   "cell_type": "code",
   "execution_count": 3,
   "metadata": {},
   "outputs": [
    {
     "data": {
      "text/html": [
       "<div>\n",
       "<style scoped>\n",
       "    .dataframe tbody tr th:only-of-type {\n",
       "        vertical-align: middle;\n",
       "    }\n",
       "\n",
       "    .dataframe tbody tr th {\n",
       "        vertical-align: top;\n",
       "    }\n",
       "\n",
       "    .dataframe thead th {\n",
       "        text-align: right;\n",
       "    }\n",
       "</style>\n",
       "<table border=\"1\" class=\"dataframe\">\n",
       "  <thead>\n",
       "    <tr style=\"text-align: right;\">\n",
       "      <th></th>\n",
       "      <th>name</th>\n",
       "      <th>address</th>\n",
       "      <th>rating</th>\n",
       "      <th>review_count</th>\n",
       "    </tr>\n",
       "  </thead>\n",
       "  <tbody>\n",
       "    <tr>\n",
       "      <th>0</th>\n",
       "      <td>Balboa Park</td>\n",
       "      <td>1549 El Prado San Diego, CA 92101</td>\n",
       "      <td>5.0</td>\n",
       "      <td>2105</td>\n",
       "    </tr>\n",
       "    <tr>\n",
       "      <th>1</th>\n",
       "      <td>Civita Park</td>\n",
       "      <td>7960 Civita Blvd San Diego, CA 92108</td>\n",
       "      <td>4.5</td>\n",
       "      <td>46</td>\n",
       "    </tr>\n",
       "    <tr>\n",
       "      <th>2</th>\n",
       "      <td>Waterfront Park</td>\n",
       "      <td>1600 Pacific Hwy San Diego, CA 92101</td>\n",
       "      <td>4.5</td>\n",
       "      <td>242</td>\n",
       "    </tr>\n",
       "    <tr>\n",
       "      <th>3</th>\n",
       "      <td>Trolley Barn Park</td>\n",
       "      <td>Adams Ave And Florida St San Diego, CA 92116</td>\n",
       "      <td>4.5</td>\n",
       "      <td>102</td>\n",
       "    </tr>\n",
       "    <tr>\n",
       "      <th>4</th>\n",
       "      <td>Bay View Park</td>\n",
       "      <td>413 1st St Coronado, CA 92118</td>\n",
       "      <td>5.0</td>\n",
       "      <td>42</td>\n",
       "    </tr>\n",
       "  </tbody>\n",
       "</table>\n",
       "</div>"
      ],
      "text/plain": [
       "                name                                       address  rating  \\\n",
       "0        Balboa Park             1549 El Prado San Diego, CA 92101     5.0   \n",
       "1        Civita Park          7960 Civita Blvd San Diego, CA 92108     4.5   \n",
       "2    Waterfront Park          1600 Pacific Hwy San Diego, CA 92101     4.5   \n",
       "3  Trolley Barn Park  Adams Ave And Florida St San Diego, CA 92116     4.5   \n",
       "4      Bay View Park                 413 1st St Coronado, CA 92118     5.0   \n",
       "\n",
       "   review_count  \n",
       "0          2105  \n",
       "1            46  \n",
       "2           242  \n",
       "3           102  \n",
       "4            42  "
      ]
     },
     "execution_count": 3,
     "metadata": {},
     "output_type": "execute_result"
    }
   ],
   "source": [
    "df_yelp = df_yelp[['name', 'address', 'rating', 'review_count']].copy()\n",
    "df_yelp.head()"
   ]
  },
  {
   "cell_type": "markdown",
   "metadata": {},
   "source": [
    "To ensure the ratings for each park are reflective of its quality, I will be removing observations that have less than 50 reviews. I believe that having less than 50 reviews is too small of a dataset to be considered."
   ]
  },
  {
   "cell_type": "code",
   "execution_count": 4,
   "metadata": {},
   "outputs": [],
   "source": [
    "df_yelp = df_yelp[df_yelp['review_count'] > 50]"
   ]
  },
  {
   "cell_type": "markdown",
   "metadata": {},
   "source": [
    "To make the distinction clear which park belongs to which city within San Diego county, and also for analysis later on, I will be transforming the address of each park to only its city name."
   ]
  },
  {
   "cell_type": "code",
   "execution_count": 5,
   "metadata": {},
   "outputs": [],
   "source": [
    "def separateByCity(string):\n",
    "    if 'Carlsbad' in string:\n",
    "        output = 'Carlsbad'\n",
    "    elif 'Chula Vista' in string:\n",
    "        output = 'Chula Vista'\n",
    "    elif 'Coronado' in string:\n",
    "        output = 'Coronado'\n",
    "    elif 'Del Mar' in string:\n",
    "        output = 'Del Mar'\n",
    "    elif 'El Cajon' in string:\n",
    "        output = 'El Cajon'\n",
    "    elif 'Encinitas' in string:\n",
    "        output = 'Encinitas'\n",
    "    elif 'Escondido' in string:\n",
    "        output = 'Escondido'\n",
    "    elif 'Imperial Beach' in string:\n",
    "        output = 'Imperial Beach'\n",
    "    elif 'La Mesa' in string:\n",
    "        output = 'La Mesa'\n",
    "    elif 'Lemon Grove' in string:\n",
    "        output = 'Lemon Grove'\n",
    "    elif 'National City' in string:\n",
    "        output = 'National City'\n",
    "    elif 'Oceanside' in string:\n",
    "        output = 'Oceanside'\n",
    "    elif 'Poway' in string:\n",
    "        output = 'Poway'\n",
    "    #I found out that La Jolla is considered part of San Diego city so I will include it\n",
    "    elif 'La Jolla' in string:\n",
    "        output = 'San Diego'    \n",
    "    elif 'San Diego' in string:\n",
    "        output = 'San Diego'\n",
    "    elif 'San Marcos' in string:\n",
    "        output = 'San Marcos'\n",
    "    elif 'Santee' in string:\n",
    "        output = 'Santee'\n",
    "    elif 'Solana Beach' in string:\n",
    "        output = 'Solana Beach'\n",
    "    elif 'Vista' in string:\n",
    "        output = 'Vista'\n",
    "    else:\n",
    "        output = np.nan\n",
    "        \n",
    "    return output"
   ]
  },
  {
   "cell_type": "code",
   "execution_count": 6,
   "metadata": {},
   "outputs": [
    {
     "data": {
      "text/html": [
       "<div>\n",
       "<style scoped>\n",
       "    .dataframe tbody tr th:only-of-type {\n",
       "        vertical-align: middle;\n",
       "    }\n",
       "\n",
       "    .dataframe tbody tr th {\n",
       "        vertical-align: top;\n",
       "    }\n",
       "\n",
       "    .dataframe thead th {\n",
       "        text-align: right;\n",
       "    }\n",
       "</style>\n",
       "<table border=\"1\" class=\"dataframe\">\n",
       "  <thead>\n",
       "    <tr style=\"text-align: right;\">\n",
       "      <th></th>\n",
       "      <th>name</th>\n",
       "      <th>address</th>\n",
       "      <th>rating</th>\n",
       "      <th>review_count</th>\n",
       "    </tr>\n",
       "  </thead>\n",
       "  <tbody>\n",
       "    <tr>\n",
       "      <th>0</th>\n",
       "      <td>Balboa Park</td>\n",
       "      <td>San Diego</td>\n",
       "      <td>5.0</td>\n",
       "      <td>2105</td>\n",
       "    </tr>\n",
       "    <tr>\n",
       "      <th>2</th>\n",
       "      <td>Waterfront Park</td>\n",
       "      <td>San Diego</td>\n",
       "      <td>4.5</td>\n",
       "      <td>242</td>\n",
       "    </tr>\n",
       "    <tr>\n",
       "      <th>3</th>\n",
       "      <td>Trolley Barn Park</td>\n",
       "      <td>San Diego</td>\n",
       "      <td>4.5</td>\n",
       "      <td>102</td>\n",
       "    </tr>\n",
       "    <tr>\n",
       "      <th>6</th>\n",
       "      <td>Presidio Park</td>\n",
       "      <td>San Diego</td>\n",
       "      <td>4.5</td>\n",
       "      <td>85</td>\n",
       "    </tr>\n",
       "    <tr>\n",
       "      <th>7</th>\n",
       "      <td>Kate O Sessions Memorial Park</td>\n",
       "      <td>San Diego</td>\n",
       "      <td>4.5</td>\n",
       "      <td>276</td>\n",
       "    </tr>\n",
       "    <tr>\n",
       "      <th>...</th>\n",
       "      <td>...</td>\n",
       "      <td>...</td>\n",
       "      <td>...</td>\n",
       "      <td>...</td>\n",
       "    </tr>\n",
       "    <tr>\n",
       "      <th>818</th>\n",
       "      <td>The Cottage La Jolla</td>\n",
       "      <td>San Diego</td>\n",
       "      <td>4.0</td>\n",
       "      <td>4211</td>\n",
       "    </tr>\n",
       "    <tr>\n",
       "      <th>819</th>\n",
       "      <td>Brockton Villa Restaurant</td>\n",
       "      <td>San Diego</td>\n",
       "      <td>4.0</td>\n",
       "      <td>1749</td>\n",
       "    </tr>\n",
       "    <tr>\n",
       "      <th>822</th>\n",
       "      <td>Capehart Dog Park</td>\n",
       "      <td>San Diego</td>\n",
       "      <td>3.0</td>\n",
       "      <td>85</td>\n",
       "    </tr>\n",
       "    <tr>\n",
       "      <th>829</th>\n",
       "      <td>San Diego Metropolitan Transit System</td>\n",
       "      <td>San Diego</td>\n",
       "      <td>2.5</td>\n",
       "      <td>268</td>\n",
       "    </tr>\n",
       "    <tr>\n",
       "      <th>830</th>\n",
       "      <td>Petco Park</td>\n",
       "      <td>San Diego</td>\n",
       "      <td>4.0</td>\n",
       "      <td>1667</td>\n",
       "    </tr>\n",
       "  </tbody>\n",
       "</table>\n",
       "<p>307 rows × 4 columns</p>\n",
       "</div>"
      ],
      "text/plain": [
       "                                      name    address  rating  review_count\n",
       "0                              Balboa Park  San Diego     5.0          2105\n",
       "2                          Waterfront Park  San Diego     4.5           242\n",
       "3                        Trolley Barn Park  San Diego     4.5           102\n",
       "6                            Presidio Park  San Diego     4.5            85\n",
       "7            Kate O Sessions Memorial Park  San Diego     4.5           276\n",
       "..                                     ...        ...     ...           ...\n",
       "818                   The Cottage La Jolla  San Diego     4.0          4211\n",
       "819              Brockton Villa Restaurant  San Diego     4.0          1749\n",
       "822                      Capehart Dog Park  San Diego     3.0            85\n",
       "829  San Diego Metropolitan Transit System  San Diego     2.5           268\n",
       "830                             Petco Park  San Diego     4.0          1667\n",
       "\n",
       "[307 rows x 4 columns]"
      ]
     },
     "execution_count": 6,
     "metadata": {},
     "output_type": "execute_result"
    }
   ],
   "source": [
    "df_yelp['address'] = df_yelp['address'].apply(separateByCity)\n",
    "df_yelp"
   ]
  },
  {
   "cell_type": "markdown",
   "metadata": {},
   "source": [
    "Now I will just be renaming the columns for better clarity. I will also drop any rows with NaN values since each component is needed."
   ]
  },
  {
   "cell_type": "code",
   "execution_count": 7,
   "metadata": {},
   "outputs": [
    {
     "data": {
      "text/html": [
       "<div>\n",
       "<style scoped>\n",
       "    .dataframe tbody tr th:only-of-type {\n",
       "        vertical-align: middle;\n",
       "    }\n",
       "\n",
       "    .dataframe tbody tr th {\n",
       "        vertical-align: top;\n",
       "    }\n",
       "\n",
       "    .dataframe thead th {\n",
       "        text-align: right;\n",
       "    }\n",
       "</style>\n",
       "<table border=\"1\" class=\"dataframe\">\n",
       "  <thead>\n",
       "    <tr style=\"text-align: right;\">\n",
       "      <th></th>\n",
       "      <th>ParkName</th>\n",
       "      <th>City</th>\n",
       "      <th>ParkRating</th>\n",
       "      <th>ReviewCount</th>\n",
       "    </tr>\n",
       "  </thead>\n",
       "  <tbody>\n",
       "    <tr>\n",
       "      <th>0</th>\n",
       "      <td>Balboa Park</td>\n",
       "      <td>San Diego</td>\n",
       "      <td>5.0</td>\n",
       "      <td>2105</td>\n",
       "    </tr>\n",
       "    <tr>\n",
       "      <th>2</th>\n",
       "      <td>Waterfront Park</td>\n",
       "      <td>San Diego</td>\n",
       "      <td>4.5</td>\n",
       "      <td>242</td>\n",
       "    </tr>\n",
       "    <tr>\n",
       "      <th>3</th>\n",
       "      <td>Trolley Barn Park</td>\n",
       "      <td>San Diego</td>\n",
       "      <td>4.5</td>\n",
       "      <td>102</td>\n",
       "    </tr>\n",
       "    <tr>\n",
       "      <th>6</th>\n",
       "      <td>Presidio Park</td>\n",
       "      <td>San Diego</td>\n",
       "      <td>4.5</td>\n",
       "      <td>85</td>\n",
       "    </tr>\n",
       "    <tr>\n",
       "      <th>7</th>\n",
       "      <td>Kate O Sessions Memorial Park</td>\n",
       "      <td>San Diego</td>\n",
       "      <td>4.5</td>\n",
       "      <td>276</td>\n",
       "    </tr>\n",
       "    <tr>\n",
       "      <th>...</th>\n",
       "      <td>...</td>\n",
       "      <td>...</td>\n",
       "      <td>...</td>\n",
       "      <td>...</td>\n",
       "    </tr>\n",
       "    <tr>\n",
       "      <th>818</th>\n",
       "      <td>The Cottage La Jolla</td>\n",
       "      <td>San Diego</td>\n",
       "      <td>4.0</td>\n",
       "      <td>4211</td>\n",
       "    </tr>\n",
       "    <tr>\n",
       "      <th>819</th>\n",
       "      <td>Brockton Villa Restaurant</td>\n",
       "      <td>San Diego</td>\n",
       "      <td>4.0</td>\n",
       "      <td>1749</td>\n",
       "    </tr>\n",
       "    <tr>\n",
       "      <th>822</th>\n",
       "      <td>Capehart Dog Park</td>\n",
       "      <td>San Diego</td>\n",
       "      <td>3.0</td>\n",
       "      <td>85</td>\n",
       "    </tr>\n",
       "    <tr>\n",
       "      <th>829</th>\n",
       "      <td>San Diego Metropolitan Transit System</td>\n",
       "      <td>San Diego</td>\n",
       "      <td>2.5</td>\n",
       "      <td>268</td>\n",
       "    </tr>\n",
       "    <tr>\n",
       "      <th>830</th>\n",
       "      <td>Petco Park</td>\n",
       "      <td>San Diego</td>\n",
       "      <td>4.0</td>\n",
       "      <td>1667</td>\n",
       "    </tr>\n",
       "  </tbody>\n",
       "</table>\n",
       "<p>291 rows × 4 columns</p>\n",
       "</div>"
      ],
      "text/plain": [
       "                                  ParkName       City  ParkRating  ReviewCount\n",
       "0                              Balboa Park  San Diego         5.0         2105\n",
       "2                          Waterfront Park  San Diego         4.5          242\n",
       "3                        Trolley Barn Park  San Diego         4.5          102\n",
       "6                            Presidio Park  San Diego         4.5           85\n",
       "7            Kate O Sessions Memorial Park  San Diego         4.5          276\n",
       "..                                     ...        ...         ...          ...\n",
       "818                   The Cottage La Jolla  San Diego         4.0         4211\n",
       "819              Brockton Villa Restaurant  San Diego         4.0         1749\n",
       "822                      Capehart Dog Park  San Diego         3.0           85\n",
       "829  San Diego Metropolitan Transit System  San Diego         2.5          268\n",
       "830                             Petco Park  San Diego         4.0         1667\n",
       "\n",
       "[291 rows x 4 columns]"
      ]
     },
     "execution_count": 7,
     "metadata": {},
     "output_type": "execute_result"
    }
   ],
   "source": [
    "df_yelp.columns = ['ParkName', 'City', 'ParkRating', 'ReviewCount']\n",
    "df_yelp = df_yelp.dropna()\n",
    "df_yelp"
   ]
  },
  {
   "cell_type": "markdown",
   "metadata": {},
   "source": [
    "To get a sense of the different cities associated with each park I ran the code below."
   ]
  },
  {
   "cell_type": "code",
   "execution_count": 8,
   "metadata": {},
   "outputs": [
    {
     "data": {
      "text/plain": [
       "array(['San Diego', 'San Marcos', 'Coronado', 'La Mesa', 'Escondido',\n",
       "       'Poway', 'El Cajon', 'Santee', 'Encinitas', 'Carlsbad',\n",
       "       'Imperial Beach', 'Solana Beach', 'Vista', 'Chula Vista',\n",
       "       'Del Mar', 'Oceanside'], dtype=object)"
      ]
     },
     "execution_count": 8,
     "metadata": {},
     "output_type": "execute_result"
    }
   ],
   "source": [
    "df_yelp['City'].unique()"
   ]
  },
  {
   "cell_type": "markdown",
   "metadata": {},
   "source": [
    "Now I am creating a new dataframe with only the cities and their average park ratings."
   ]
  },
  {
   "cell_type": "code",
   "execution_count": 9,
   "metadata": {},
   "outputs": [
    {
     "data": {
      "text/plain": [
       "City\n",
       "Carlsbad          3.833333\n",
       "Chula Vista       3.750000\n",
       "Coronado          4.300000\n",
       "Del Mar           4.333333\n",
       "El Cajon          4.200000\n",
       "Encinitas         4.500000\n",
       "Escondido         4.200000\n",
       "Imperial Beach    4.000000\n",
       "La Mesa           4.375000\n",
       "Oceanside         3.750000\n",
       "Poway             4.062500\n",
       "San Diego         3.997881\n",
       "San Marcos        4.500000\n",
       "Santee            3.500000\n",
       "Solana Beach      4.500000\n",
       "Vista             2.500000\n",
       "Name: ParkRating, dtype: float64"
      ]
     },
     "execution_count": 9,
     "metadata": {},
     "output_type": "execute_result"
    }
   ],
   "source": [
    "df_cities = df_yelp.groupby('City')['ParkRating'].mean()\n",
    "df_cities.to_frame()\n",
    "\n",
    "df_cities"
   ]
  },
  {
   "cell_type": "markdown",
   "metadata": {},
   "source": [
    "The next dataset I will load in is the median household income for cities within San Diego county."
   ]
  },
  {
   "cell_type": "code",
   "execution_count": 10,
   "metadata": {},
   "outputs": [
    {
     "data": {
      "text/html": [
       "<div>\n",
       "<style scoped>\n",
       "    .dataframe tbody tr th:only-of-type {\n",
       "        vertical-align: middle;\n",
       "    }\n",
       "\n",
       "    .dataframe tbody tr th {\n",
       "        vertical-align: top;\n",
       "    }\n",
       "\n",
       "    .dataframe thead th {\n",
       "        text-align: right;\n",
       "    }\n",
       "</style>\n",
       "<table border=\"1\" class=\"dataframe\">\n",
       "  <thead>\n",
       "    <tr style=\"text-align: right;\">\n",
       "      <th></th>\n",
       "      <th>geography</th>\n",
       "      <th>median_household_income</th>\n",
       "      <th>persons_per_household_pph</th>\n",
       "      <th>pph_income</th>\n",
       "    </tr>\n",
       "  </thead>\n",
       "  <tbody>\n",
       "    <tr>\n",
       "      <th>0</th>\n",
       "      <td>City of Carlsbad</td>\n",
       "      <td>$   97,145</td>\n",
       "      <td>2.39</td>\n",
       "      <td>$   40,661.76</td>\n",
       "    </tr>\n",
       "    <tr>\n",
       "      <th>1</th>\n",
       "      <td>City of Chula Vista</td>\n",
       "      <td>$   66,956</td>\n",
       "      <td>3.06</td>\n",
       "      <td>$   21,848.73</td>\n",
       "    </tr>\n",
       "    <tr>\n",
       "      <th>2</th>\n",
       "      <td>City of Coronado</td>\n",
       "      <td>$   92,413</td>\n",
       "      <td>1.88</td>\n",
       "      <td>$   49,028.86</td>\n",
       "    </tr>\n",
       "    <tr>\n",
       "      <th>3</th>\n",
       "      <td>City of Del Mar</td>\n",
       "      <td>$   108,556</td>\n",
       "      <td>1.51</td>\n",
       "      <td>$   71,875.55</td>\n",
       "    </tr>\n",
       "    <tr>\n",
       "      <th>4</th>\n",
       "      <td>City of El Cajon</td>\n",
       "      <td>$   46,374</td>\n",
       "      <td>2.93</td>\n",
       "      <td>$   15,841.35</td>\n",
       "    </tr>\n",
       "  </tbody>\n",
       "</table>\n",
       "</div>"
      ],
      "text/plain": [
       "             geography median_household_income  persons_per_household_pph  \\\n",
       "0     City of Carlsbad              $   97,145                       2.39   \n",
       "1  City of Chula Vista              $   66,956                       3.06   \n",
       "2     City of Coronado              $   92,413                       1.88   \n",
       "3      City of Del Mar             $   108,556                       1.51   \n",
       "4     City of El Cajon              $   46,374                       2.93   \n",
       "\n",
       "      pph_income  \n",
       "0  $   40,661.76  \n",
       "1  $   21,848.73  \n",
       "2  $   49,028.86  \n",
       "3  $   71,875.55  \n",
       "4  $   15,841.35  "
      ]
     },
     "execution_count": 10,
     "metadata": {},
     "output_type": "execute_result"
    }
   ],
   "source": [
    "df_income = pd.read_csv('https://data.sandiegocounty.gov/resource/mh9x-cdz6.csv')\n",
    "df_income.head()"
   ]
  },
  {
   "cell_type": "markdown",
   "metadata": {},
   "source": [
    "To tidy this up, I will be removing the 'Persons Per Household', and 'PPH Income (Median income divided by PPH)' columns. While they are descriptive, I believe that Median Household Income is generally more representative for its cities'."
   ]
  },
  {
   "cell_type": "code",
   "execution_count": 11,
   "metadata": {},
   "outputs": [],
   "source": [
    "def rename(string):\n",
    "    index = string.index('f') + 2\n",
    "    return string[index:]"
   ]
  },
  {
   "cell_type": "code",
   "execution_count": 12,
   "metadata": {},
   "outputs": [
    {
     "data": {
      "text/html": [
       "<div>\n",
       "<style scoped>\n",
       "    .dataframe tbody tr th:only-of-type {\n",
       "        vertical-align: middle;\n",
       "    }\n",
       "\n",
       "    .dataframe tbody tr th {\n",
       "        vertical-align: top;\n",
       "    }\n",
       "\n",
       "    .dataframe thead th {\n",
       "        text-align: right;\n",
       "    }\n",
       "</style>\n",
       "<table border=\"1\" class=\"dataframe\">\n",
       "  <thead>\n",
       "    <tr style=\"text-align: right;\">\n",
       "      <th></th>\n",
       "      <th>geography</th>\n",
       "      <th>median_household_income</th>\n",
       "    </tr>\n",
       "  </thead>\n",
       "  <tbody>\n",
       "    <tr>\n",
       "      <th>0</th>\n",
       "      <td>Carlsbad</td>\n",
       "      <td>$   97,145</td>\n",
       "    </tr>\n",
       "    <tr>\n",
       "      <th>1</th>\n",
       "      <td>Chula Vista</td>\n",
       "      <td>$   66,956</td>\n",
       "    </tr>\n",
       "    <tr>\n",
       "      <th>2</th>\n",
       "      <td>Coronado</td>\n",
       "      <td>$   92,413</td>\n",
       "    </tr>\n",
       "    <tr>\n",
       "      <th>3</th>\n",
       "      <td>Del Mar</td>\n",
       "      <td>$   108,556</td>\n",
       "    </tr>\n",
       "    <tr>\n",
       "      <th>4</th>\n",
       "      <td>El Cajon</td>\n",
       "      <td>$   46,374</td>\n",
       "    </tr>\n",
       "  </tbody>\n",
       "</table>\n",
       "</div>"
      ],
      "text/plain": [
       "     geography median_household_income\n",
       "0     Carlsbad              $   97,145\n",
       "1  Chula Vista              $   66,956\n",
       "2     Coronado              $   92,413\n",
       "3      Del Mar             $   108,556\n",
       "4     El Cajon              $   46,374"
      ]
     },
     "execution_count": 12,
     "metadata": {},
     "output_type": "execute_result"
    }
   ],
   "source": [
    "df_income = df_income.drop(df_income.columns[[2,3]], axis=1)\n",
    "df_income['geography'] = df_income['geography'].apply(rename)\n",
    "df_income.head()"
   ]
  },
  {
   "cell_type": "markdown",
   "metadata": {},
   "source": [
    "Since Lemon Grove and National City were not included in the list of cities that had Yelp reviews for their parks I, will be dropping them."
   ]
  },
  {
   "cell_type": "code",
   "execution_count": 13,
   "metadata": {},
   "outputs": [],
   "source": [
    "df_income = df_income.drop(index=[9,10])\n",
    "df_income = df_income.reset_index(drop=True)"
   ]
  },
  {
   "cell_type": "markdown",
   "metadata": {},
   "source": [
    "To be able to analyze the values of the Median Household Income it first needs to be in a int type, so I will be converting it from string to int."
   ]
  },
  {
   "cell_type": "code",
   "execution_count": 14,
   "metadata": {},
   "outputs": [],
   "source": [
    "def convert(string):\n",
    "    string = string.replace(',','')\n",
    "    return int(string[1:])"
   ]
  },
  {
   "cell_type": "code",
   "execution_count": 15,
   "metadata": {},
   "outputs": [
    {
     "data": {
      "text/plain": [
       "0      97145\n",
       "1      66956\n",
       "2      92413\n",
       "3     108556\n",
       "4      46374\n",
       "5     100698\n",
       "6      54268\n",
       "7      48010\n",
       "8      56693\n",
       "9      58949\n",
       "10     98859\n",
       "11     68117\n",
       "12     63960\n",
       "13     77460\n",
       "14    100352\n",
       "15     54203\n",
       "Name: median_household_income, dtype: int64"
      ]
     },
     "execution_count": 15,
     "metadata": {},
     "output_type": "execute_result"
    }
   ],
   "source": [
    "df_income['median_household_income'] = df_income['median_household_income'].apply(convert)\n",
    "df_income['median_household_income']"
   ]
  },
  {
   "cell_type": "markdown",
   "metadata": {},
   "source": [
    "Finally, I will join the median income dataset and the mean park rating dataset by their cities."
   ]
  },
  {
   "cell_type": "code",
   "execution_count": 16,
   "metadata": {},
   "outputs": [
    {
     "data": {
      "text/html": [
       "<div>\n",
       "<style scoped>\n",
       "    .dataframe tbody tr th:only-of-type {\n",
       "        vertical-align: middle;\n",
       "    }\n",
       "\n",
       "    .dataframe tbody tr th {\n",
       "        vertical-align: top;\n",
       "    }\n",
       "\n",
       "    .dataframe thead th {\n",
       "        text-align: right;\n",
       "    }\n",
       "</style>\n",
       "<table border=\"1\" class=\"dataframe\">\n",
       "  <thead>\n",
       "    <tr style=\"text-align: right;\">\n",
       "      <th></th>\n",
       "      <th>MedianHouseholdIncome</th>\n",
       "      <th>ParkRating</th>\n",
       "    </tr>\n",
       "    <tr>\n",
       "      <th>City</th>\n",
       "      <th></th>\n",
       "      <th></th>\n",
       "    </tr>\n",
       "  </thead>\n",
       "  <tbody>\n",
       "    <tr>\n",
       "      <th>Carlsbad</th>\n",
       "      <td>97145</td>\n",
       "      <td>3.833333</td>\n",
       "    </tr>\n",
       "    <tr>\n",
       "      <th>Chula Vista</th>\n",
       "      <td>66956</td>\n",
       "      <td>3.750000</td>\n",
       "    </tr>\n",
       "    <tr>\n",
       "      <th>Coronado</th>\n",
       "      <td>92413</td>\n",
       "      <td>4.300000</td>\n",
       "    </tr>\n",
       "    <tr>\n",
       "      <th>Del Mar</th>\n",
       "      <td>108556</td>\n",
       "      <td>4.333333</td>\n",
       "    </tr>\n",
       "    <tr>\n",
       "      <th>El Cajon</th>\n",
       "      <td>46374</td>\n",
       "      <td>4.200000</td>\n",
       "    </tr>\n",
       "    <tr>\n",
       "      <th>Encinitas</th>\n",
       "      <td>100698</td>\n",
       "      <td>4.500000</td>\n",
       "    </tr>\n",
       "    <tr>\n",
       "      <th>Escondido</th>\n",
       "      <td>54268</td>\n",
       "      <td>4.200000</td>\n",
       "    </tr>\n",
       "    <tr>\n",
       "      <th>Imperial Beach</th>\n",
       "      <td>48010</td>\n",
       "      <td>4.000000</td>\n",
       "    </tr>\n",
       "    <tr>\n",
       "      <th>La Mesa</th>\n",
       "      <td>56693</td>\n",
       "      <td>4.375000</td>\n",
       "    </tr>\n",
       "    <tr>\n",
       "      <th>Oceanside</th>\n",
       "      <td>58949</td>\n",
       "      <td>3.750000</td>\n",
       "    </tr>\n",
       "    <tr>\n",
       "      <th>Poway</th>\n",
       "      <td>98859</td>\n",
       "      <td>4.062500</td>\n",
       "    </tr>\n",
       "    <tr>\n",
       "      <th>San Diego</th>\n",
       "      <td>68117</td>\n",
       "      <td>3.997881</td>\n",
       "    </tr>\n",
       "    <tr>\n",
       "      <th>San Marcos</th>\n",
       "      <td>63960</td>\n",
       "      <td>4.500000</td>\n",
       "    </tr>\n",
       "    <tr>\n",
       "      <th>Santee</th>\n",
       "      <td>77460</td>\n",
       "      <td>3.500000</td>\n",
       "    </tr>\n",
       "    <tr>\n",
       "      <th>Solana Beach</th>\n",
       "      <td>100352</td>\n",
       "      <td>4.500000</td>\n",
       "    </tr>\n",
       "    <tr>\n",
       "      <th>Vista</th>\n",
       "      <td>54203</td>\n",
       "      <td>2.500000</td>\n",
       "    </tr>\n",
       "  </tbody>\n",
       "</table>\n",
       "</div>"
      ],
      "text/plain": [
       "                MedianHouseholdIncome  ParkRating\n",
       "City                                             \n",
       "Carlsbad                        97145    3.833333\n",
       "Chula Vista                     66956    3.750000\n",
       "Coronado                        92413    4.300000\n",
       "Del Mar                        108556    4.333333\n",
       "El Cajon                        46374    4.200000\n",
       "Encinitas                      100698    4.500000\n",
       "Escondido                       54268    4.200000\n",
       "Imperial Beach                  48010    4.000000\n",
       "La Mesa                         56693    4.375000\n",
       "Oceanside                       58949    3.750000\n",
       "Poway                           98859    4.062500\n",
       "San Diego                       68117    3.997881\n",
       "San Marcos                      63960    4.500000\n",
       "Santee                          77460    3.500000\n",
       "Solana Beach                   100352    4.500000\n",
       "Vista                           54203    2.500000"
      ]
     },
     "execution_count": 16,
     "metadata": {},
     "output_type": "execute_result"
    }
   ],
   "source": [
    "#Renaming columns for clarity\n",
    "df_income.columns = ['City','MedianHouseholdIncome']\n",
    "#Using city names as indicies\n",
    "df_income = df_income.set_index('City')\n",
    "\n",
    "df = df_income.join(df_cities)\n",
    "df"
   ]
  },
  {
   "cell_type": "markdown",
   "metadata": {},
   "source": [
    "# Data Analysis & Results"
   ]
  },
  {
   "cell_type": "markdown",
   "metadata": {},
   "source": [
    "Now we can look at how average park ratings and median income are distributed."
   ]
  },
  {
   "cell_type": "code",
   "execution_count": 17,
   "metadata": {},
   "outputs": [
    {
     "name": "stderr",
     "output_type": "stream",
     "text": [
      "/usr/local/anaconda3/lib/python3.8/site-packages/seaborn/distributions.py:2551: FutureWarning: `distplot` is a deprecated function and will be removed in a future version. Please adapt your code to use either `displot` (a figure-level function with similar flexibility) or `histplot` (an axes-level function for histograms).\n",
      "  warnings.warn(msg, FutureWarning)\n",
      "/usr/local/anaconda3/lib/python3.8/site-packages/seaborn/distributions.py:2551: FutureWarning: `distplot` is a deprecated function and will be removed in a future version. Please adapt your code to use either `displot` (a figure-level function with similar flexibility) or `histplot` (an axes-level function for histograms).\n",
      "  warnings.warn(msg, FutureWarning)\n"
     ]
    },
    {
     "data": {
      "text/plain": [
       "Text(0.5, 1.0, 'Median Incomes in San Diego')"
      ]
     },
     "execution_count": 17,
     "metadata": {},
     "output_type": "execute_result"
    },
    {
     "data": {
      "image/png": "[encoded data removed]",
      "text/plain": [
       "<Figure size 1224x504 with 2 Axes>"
      ]
     },
     "metadata": {
      "image/png": {
       "height": 442,
       "width": 999
      },
      "needs_background": "light"
     },
     "output_type": "display_data"
    }
   ],
   "source": [
    "plt.subplot(1, 2, 1)\n",
    "sns.distplot(df['ParkRating'])\n",
    "plt.title('Average Park Ratings in San Diego', fontsize = 15)\n",
    "\n",
    "plt.subplot(1, 2, 2)\n",
    "sns.distplot(df['MedianHouseholdIncome'])\n",
    "plt.title('Median Incomes in San Diego', fontsize = 15)"
   ]
  },
  {
   "cell_type": "markdown",
   "metadata": {},
   "source": [
    "The average park ratings are left skewed, with most ratings ranging from 3.5 to 4.5. There is an outlier for a lower park rating, however. The distribution for median income seems bimodal, with more incomes nearing 60,000 and 100,000."
   ]
  },
  {
   "cell_type": "markdown",
   "metadata": {},
   "source": [
    "Below, I will explore how average park rating and median household income could possibly have a relationship together, using a scatterplot"
   ]
  },
  {
   "cell_type": "code",
   "execution_count": 18,
   "metadata": {},
   "outputs": [
    {
     "data": {
      "text/plain": [
       "Text(0.5, 1.0, 'Park Rating vs. Median Household Income')"
      ]
     },
     "execution_count": 18,
     "metadata": {},
     "output_type": "execute_result"
    },
    {
     "data": {
      "image/png": "[encoded data removed]",
      "text/plain": [
       "<Figure size 1224x504 with 1 Axes>"
      ]
     },
     "metadata": {
      "image/png": {
       "height": 446,
       "width": 1005
      },
      "needs_background": "light"
     },
     "output_type": "display_data"
    }
   ],
   "source": [
    "sns.scatterplot(x='MedianHouseholdIncome', y='ParkRating', data=df, s=100)\n",
    "plt.xlabel('Median Household Income')\n",
    "plt.ylabel('Park Rating');\n",
    "plt.title('Park Rating vs. Median Household Income', fontsize = 20)"
   ]
  },
  {
   "cell_type": "markdown",
   "metadata": {},
   "source": [
    "There doesn't seem to be a relationship between the two variables, but to be sure I will be running a linear regression model on whether Median Household Income (predictor) impacts Park Rating (outcome). "
   ]
  },
  {
   "cell_type": "code",
   "execution_count": 19,
   "metadata": {},
   "outputs": [
    {
     "name": "stdout",
     "output_type": "stream",
     "text": [
      "                            OLS Regression Results                            \n",
      "==============================================================================\n",
      "Dep. Variable:             ParkRating   R-squared:                       0.107\n",
      "Model:                            OLS   Adj. R-squared:                  0.043\n",
      "Method:                 Least Squares   F-statistic:                     1.676\n",
      "Date:                Wed, 16 Dec 2020   Prob (F-statistic):              0.216\n",
      "Time:                        01:52:21   Log-Likelihood:                -10.345\n",
      "No. Observations:                  16   AIC:                             24.69\n",
      "Df Residuals:                      14   BIC:                             26.24\n",
      "Df Model:                           1                                         \n",
      "Covariance Type:            nonrobust                                         \n",
      "=========================================================================================\n",
      "                            coef    std err          t      P>|t|      [0.025      0.975]\n",
      "-----------------------------------------------------------------------------------------\n",
      "Intercept                 3.4504      0.456      7.565      0.000       2.472       4.429\n",
      "MedianHouseholdIncome  7.624e-06   5.89e-06      1.295      0.216   -5.01e-06    2.03e-05\n",
      "==============================================================================\n",
      "Omnibus:                       12.268   Durbin-Watson:                   1.684\n",
      "Prob(Omnibus):                  0.002   Jarque-Bera (JB):                8.858\n",
      "Skew:                          -1.461   Prob(JB):                       0.0119\n",
      "Kurtosis:                       5.180   Cond. No.                     2.86e+05\n",
      "==============================================================================\n",
      "\n",
      "Notes:\n",
      "[1] Standard Errors assume that the covariance matrix of the errors is correctly specified.\n",
      "[2] The condition number is large, 2.86e+05. This might indicate that there are\n",
      "strong multicollinearity or other numerical problems.\n"
     ]
    },
    {
     "name": "stderr",
     "output_type": "stream",
     "text": [
      "/usr/local/anaconda3/lib/python3.8/site-packages/scipy/stats/stats.py:1603: UserWarning: kurtosistest only valid for n>=20 ... continuing anyway, n=16\n",
      "  warnings.warn(\"kurtosistest only valid for n>=20 ... continuing \"\n"
     ]
    }
   ],
   "source": [
    "outcome, predictors = patsy.dmatrices('ParkRating ~ MedianHouseholdIncome', df)\n",
    "mod = sm.OLS(outcome, predictors)\n",
    "res = mod.fit()\n",
    "print(res.summary())"
   ]
  },
  {
   "cell_type": "markdown",
   "metadata": {},
   "source": [
    "Now that I have the model, I will plot the model fit line against the data I used previously."
   ]
  },
  {
   "cell_type": "code",
   "execution_count": 20,
   "metadata": {},
   "outputs": [
    {
     "data": {
      "image/png": "[encoded data removed]",
      "text/plain": [
       "<Figure size 1224x504 with 1 Axes>"
      ]
     },
     "metadata": {
      "image/png": {
       "height": 446,
       "width": 1005
      },
      "needs_background": "light"
     },
     "output_type": "display_data"
    }
   ],
   "source": [
    "sns.scatterplot(x='MedianHouseholdIncome', y='ParkRating', data=df, s=100)\n",
    "plt.xlabel('Median Household Income')\n",
    "plt.ylabel('Park Rating');\n",
    "plt.title('Park Rating vs. Median Household Income', fontsize = 20)\n",
    "\n",
    "#generating and plotting model fit line\n",
    "xs = np.arange(df['MedianHouseholdIncome'].min(), df['MedianHouseholdIncome'].max())\n",
    "ys = 7.624e-06 * xs + 3.4504\n",
    "plt.plot(xs, ys, '--k', linewidth=4, label='Model')\n",
    "plt.legend();"
   ]
  },
  {
   "cell_type": "markdown",
   "metadata": {},
   "source": [
    "The model fit line suggests that there could be a correlation between the two variables, but its strength is not very convincing. I will also print the pearson correlation for the variables below."
   ]
  },
  {
   "cell_type": "code",
   "execution_count": 21,
   "metadata": {},
   "outputs": [
    {
     "name": "stdout",
     "output_type": "stream",
     "text": [
      "corr:  0.32700183267068844\n"
     ]
    }
   ],
   "source": [
    "print('corr: ', pearsonr(df['MedianHouseholdIncome'],df['ParkRating'])[0])"
   ]
  },
  {
   "cell_type": "markdown",
   "metadata": {},
   "source": [
    "The pearson correlation is 0.32 giving it a medium strength of association."
   ]
  },
  {
   "cell_type": "markdown",
   "metadata": {},
   "source": [
    "# Ethics & Privacy"
   ]
  },
  {
   "cell_type": "markdown",
   "metadata": {},
   "source": [
    "The data for each city in San Diego county regarding income should not contain personal information of an individual. The data for each Yelp review did contain addresses and phone numbers, but because those are tied to public spaces they shouldn't be a concern for privacy. In the end they were removed or changed anyway. \n",
    "\n",
    "The data came from the city of San Diego, a public sector, so there should not be any bias for the reports on median household income. However, for the Yelp reviews they could be heavily biased as that is the nature of self-made reviews. The reviews were done by individuals rather than a group or organization that could maintain a neutral position. There is also no way for me to verify that these were real reviews, since there could be fake reviews done by computer simulations and such."
   ]
  },
  {
   "cell_type": "markdown",
   "metadata": {},
   "source": [
    "# Conclusion & Discussion"
   ]
  },
  {
   "cell_type": "markdown",
   "metadata": {},
   "source": [
    "Based on my analysis, I cannot conclude that lower median household income leads to lower park ratings. My analysis did show that given a lower median household income, park rating will be lower in average. But there is potential that the outlier in my data could have caused it. There was not a strong enough correlation found between the two variables using linear regression, so my hypothesis is wrong. Therefore, I accept the null hypothesis that median household income has no effect on park ratings.\n",
    "\n",
    "I encountered many limitiations during my project. The first one was the number of observations I had to work with. To be able to join the two datasets I chose, I had to reduce the number of observations from the Yelp reviews to the ones consisting of cities in San Diego county. That number became smaller when I found that two cities didn't have Yelp reviews. Because I had so few observations, I didn't want to risk removing the outlier in my park ratings data as that could have affected my analysis further. This affected my linear regression model as well, since the number of observations were so small it my model might not have been accurately computed. Another limitation was time. I originally intended to research how physical health is affected by the number of recreation centers and neighborhood household income. This approach required geospatial analyzation which would have been too lengthy, and I wasn't able to find information on household income at the neighborhood/district level.\n",
    "\n",
    "Overall, this project helped me understand how data science and the process of data analysis takes time and effort. If given more time and resources it would have been interesting to see how my initial research question would have turned out."
   ]
  }
 ],
 "metadata": {
  "kernelspec": {
   "display_name": "Python 3",
   "language": "python",
   "name": "python3"
  },
  "language_info": {
   "codemirror_mode": {
    "name": "ipython",
    "version": 3
   },
   "file_extension": ".py",
   "mimetype": "text/x-python",
   "name": "python",
   "nbconvert_exporter": "python",
   "pygments_lexer": "ipython3",
   "version": "3.8.5"
  }
 },
 "nbformat": 4,
 "nbformat_minor": 2
}
